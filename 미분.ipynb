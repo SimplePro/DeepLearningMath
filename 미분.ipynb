{
 "cells": [
  {
   "cell_type": "markdown",
   "metadata": {},
   "source": [
    "### 미분이란?\n",
    "- 미분은 변화율을 나타낸다. 정확한 정의는 '극한으로 짧은 시간(순간)' 에서 의 변화량이다.\n",
    "![title](도함수식.jpg)\n",
    "- lim h->0 은 극한을 나타내며, h 가 한없이 0에 근접한다는 뜻이다. h 를 한없이 0에 가깝게 줄여 x 의 변화 비율을 구하면 그 값이 바로 y = f(x) 의 미분이다. 또한 y = f(x) 가 어떤 구간에서 미분 가능하다면, 해당구간의 '모든 x' 에서 성립한다. 따라서 위의 식의 f`(x) 도 함숭"
   ]
  },
  {
   "cell_type": "code",
   "execution_count": null,
   "metadata": {},
   "outputs": [],
   "source": []
  }
 ],
 "metadata": {
  "kernelspec": {
   "display_name": "Python 3",
   "language": "python",
   "name": "python3"
  },
  "language_info": {
   "codemirror_mode": {
    "name": "ipython",
    "version": 3
   },
   "file_extension": ".py",
   "mimetype": "text/x-python",
   "name": "python",
   "nbconvert_exporter": "python",
   "pygments_lexer": "ipython3",
   "version": "3.8.1"
  }
 },
 "nbformat": 4,
 "nbformat_minor": 4
}
